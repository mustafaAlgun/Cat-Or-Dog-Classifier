{
 "cells": [
  {
   "cell_type": "markdown",
   "id": "462674b4",
   "metadata": {},
   "source": [
    "Python version: 3.9.13"
   ]
  },
  {
   "cell_type": "code",
   "execution_count": null,
   "id": "152584a3",
   "metadata": {},
   "outputs": [],
   "source": [
    "#|default_exp app"
   ]
  },
  {
   "cell_type": "code",
   "execution_count": null,
   "id": "9ffa6339",
   "metadata": {
    "scrolled": false
   },
   "outputs": [],
   "source": [
    "!pip install -Uqq fastai\n",
    "!pip install gradio\n",
    "!pip install nbdev "
   ]
  },
  {
   "cell_type": "code",
   "execution_count": null,
   "id": "6c0be274",
   "metadata": {},
   "outputs": [],
   "source": [
    "#|export\n",
    "from fastai.vision.all import *\n",
    "import gradio as gr\n",
    "import pathlib\n",
    "\n",
    "def is_cat(x): return x[0].isupper() "
   ]
  },
  {
   "cell_type": "code",
   "execution_count": null,
   "id": "6a12e759",
   "metadata": {},
   "outputs": [],
   "source": [
    "im = PILImage.create('dog.jpg')\n",
    "im.thumbnail((192,192))\n",
    "im"
   ]
  },
  {
   "cell_type": "code",
   "execution_count": null,
   "id": "7d11ad2d",
   "metadata": {},
   "outputs": [],
   "source": [
    "#|export\n",
    "#This is an encapsulating function to convert PosixPath to WindowsPath for Windows users.\n",
    "def windows_path(model_path):\n",
    "    temp = pathlib.PosixPath\n",
    "    pathlib.PosixPath = pathlib.WindowsPath\n",
    "    learn = load_learner(model_path)\n",
    "    pathlib.PosixPath = temp # setting it back to temp to prevent future errors\n",
    "    return learn"
   ]
  },
  {
   "cell_type": "code",
   "execution_count": null,
   "id": "26657af7",
   "metadata": {},
   "outputs": [],
   "source": [
    "#|export\n",
    "#This model.pkl is created in 'dogs_cats.ipynb'. It can be checked out in this repository.\n",
    "learn = windows_path('model.pkl')"
   ]
  },
  {
   "cell_type": "code",
   "execution_count": null,
   "id": "7db5de6e",
   "metadata": {},
   "outputs": [],
   "source": [
    "learn.predict(im)"
   ]
  },
  {
   "cell_type": "code",
   "execution_count": null,
   "id": "59b4ff1b",
   "metadata": {},
   "outputs": [],
   "source": [
    "#|export\n",
    "categories = ('Dog', 'Cat')\n",
    "def classify_image(img):\n",
    "    pred,idx,probs= learn.predict(img)\n",
    "    return dict(zip(categories, map(float,probs)))"
   ]
  },
  {
   "cell_type": "code",
   "execution_count": null,
   "id": "4c764c70",
   "metadata": {},
   "outputs": [],
   "source": [
    "classify_image(im)"
   ]
  },
  {
   "cell_type": "code",
   "execution_count": null,
   "id": "fd859be5",
   "metadata": {},
   "outputs": [],
   "source": [
    "#| export\n",
    "image = gr.inputs.Image(shape=(192,192))\n",
    "label = gr.outputs.Label()\n",
    "examples = ['dog.jpg', 'cat.jpg', 'confusing.jfif']\n",
    "\n",
    "intf = gr.Interface(fn=classify_image, inputs=image, outputs=label, examples=examples)\n",
    "intf.launch(inline=False)"
   ]
  },
  {
   "cell_type": "code",
   "execution_count": null,
   "id": "35bdd3ba",
   "metadata": {},
   "outputs": [],
   "source": [
    "m = learn.model"
   ]
  },
  {
   "cell_type": "code",
   "execution_count": null,
   "id": "baab3360",
   "metadata": {},
   "outputs": [],
   "source": [
    "ps = list(list(m.parameters()))"
   ]
  },
  {
   "cell_type": "code",
   "execution_count": null,
   "id": "f2d13bc5",
   "metadata": {},
   "outputs": [],
   "source": [
    "ps[1]"
   ]
  },
  {
   "cell_type": "code",
   "execution_count": null,
   "id": "baa52a2f",
   "metadata": {},
   "outputs": [],
   "source": [
    "ps[0].shape"
   ]
  },
  {
   "cell_type": "code",
   "execution_count": null,
   "id": "670284a9",
   "metadata": {},
   "outputs": [],
   "source": [
    "ps[0]"
   ]
  },
  {
   "cell_type": "markdown",
   "id": "5704d30c",
   "metadata": {},
   "source": [
    "# export\n",
    "\n",
    "To learn more about nbdev, you can go to https://github.com/fastai/nbdev "
   ]
  },
  {
   "cell_type": "code",
   "execution_count": null,
   "id": "78592562",
   "metadata": {},
   "outputs": [],
   "source": [
    "from nbdev.export import notebook2script"
   ]
  },
  {
   "cell_type": "code",
   "execution_count": null,
   "id": "1eab44b8",
   "metadata": {},
   "outputs": [],
   "source": [
    "notebook2script('app.ipynb')"
   ]
  }
 ],
 "metadata": {
  "kernelspec": {
   "display_name": "Python 3 (ipykernel)",
   "language": "python",
   "name": "python3"
  },
  "language_info": {
   "codemirror_mode": {
    "name": "ipython",
    "version": 3
   },
   "file_extension": ".py",
   "mimetype": "text/x-python",
   "name": "python",
   "nbconvert_exporter": "python",
   "pygments_lexer": "ipython3",
   "version": "3.9.13"
  }
 },
 "nbformat": 4,
 "nbformat_minor": 5
}
