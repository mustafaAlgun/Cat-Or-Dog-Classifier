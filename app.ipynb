{
 "cells": [
  {
   "cell_type": "markdown",
   "id": "462674b4",
   "metadata": {},
   "source": [
    "Python version: 3.9.13"
   ]
  },
  {
   "cell_type": "code",
   "execution_count": 8,
   "id": "152584a3",
   "metadata": {},
   "outputs": [],
   "source": [
    "#|default_exp app"
   ]
  },
  {
   "cell_type": "code",
   "execution_count": 31,
   "id": "9ffa6339",
   "metadata": {},
   "outputs": [
    {
     "name": "stdout",
     "output_type": "stream",
     "text": [
      "Requirement already satisfied: gradio in d:\\anaconda\\lib\\site-packages (3.6)\n",
      "Requirement already satisfied: numpy in d:\\anaconda\\lib\\site-packages (from gradio) (1.21.5)\n",
      "Requirement already satisfied: pydantic in d:\\anaconda\\lib\\site-packages (from gradio) (1.10.2)\n",
      "Requirement already satisfied: ffmpy in d:\\anaconda\\lib\\site-packages (from gradio) (0.3.0)\n",
      "Requirement already satisfied: requests in d:\\anaconda\\lib\\site-packages (from gradio) (2.28.1)\n",
      "Requirement already satisfied: python-multipart in d:\\anaconda\\lib\\site-packages (from gradio) (0.0.5)\n",
      "Requirement already satisfied: aiohttp in d:\\anaconda\\lib\\site-packages (from gradio) (3.8.3)\n",
      "Requirement already satisfied: fastapi in d:\\anaconda\\lib\\site-packages (from gradio) (0.85.1)\n",
      "Requirement already satisfied: h11<0.13,>=0.11 in d:\\anaconda\\lib\\site-packages (from gradio) (0.12.0)\n",
      "Requirement already satisfied: pydub in d:\\anaconda\\lib\\site-packages (from gradio) (0.25.1)\n",
      "Requirement already satisfied: matplotlib in d:\\anaconda\\lib\\site-packages (from gradio) (3.5.2)\n",
      "Requirement already satisfied: jinja2 in c:\\users\\mustafa\\appdata\\roaming\\python\\python39\\site-packages (from gradio) (3.0.2)\n",
      "Requirement already satisfied: paramiko in d:\\anaconda\\lib\\site-packages (from gradio) (2.8.1)\n",
      "Requirement already satisfied: markdown-it-py[linkify,plugins] in d:\\anaconda\\lib\\site-packages (from gradio) (2.1.0)\n",
      "Requirement already satisfied: pyyaml in d:\\anaconda\\lib\\site-packages (from gradio) (6.0)\n",
      "Requirement already satisfied: uvicorn in d:\\anaconda\\lib\\site-packages (from gradio) (0.19.0)\n",
      "Requirement already satisfied: fsspec in d:\\anaconda\\lib\\site-packages (from gradio) (2022.7.1)\n",
      "Requirement already satisfied: orjson in d:\\anaconda\\lib\\site-packages (from gradio) (3.8.0)\n",
      "Requirement already satisfied: httpx in d:\\anaconda\\lib\\site-packages (from gradio) (0.23.0)\n",
      "Requirement already satisfied: pycryptodome in d:\\anaconda\\lib\\site-packages (from gradio) (3.15.0)\n",
      "Requirement already satisfied: websockets in d:\\anaconda\\lib\\site-packages (from gradio) (10.3)\n",
      "Requirement already satisfied: pillow in d:\\anaconda\\lib\\site-packages (from gradio) (9.2.0)\n",
      "Requirement already satisfied: pandas in d:\\anaconda\\lib\\site-packages (from gradio) (1.4.4)\n",
      "Requirement already satisfied: async-timeout<5.0,>=4.0.0a3 in d:\\anaconda\\lib\\site-packages (from aiohttp->gradio) (4.0.2)\n",
      "Requirement already satisfied: aiosignal>=1.1.2 in d:\\anaconda\\lib\\site-packages (from aiohttp->gradio) (1.2.0)\n",
      "Requirement already satisfied: multidict<7.0,>=4.5 in d:\\anaconda\\lib\\site-packages (from aiohttp->gradio) (6.0.2)\n",
      "Requirement already satisfied: attrs>=17.3.0 in c:\\users\\mustafa\\appdata\\roaming\\python\\python39\\site-packages (from aiohttp->gradio) (21.2.0)\n",
      "Requirement already satisfied: charset-normalizer<3.0,>=2.0 in d:\\anaconda\\lib\\site-packages (from aiohttp->gradio) (2.0.4)\n",
      "Requirement already satisfied: yarl<2.0,>=1.0 in d:\\anaconda\\lib\\site-packages (from aiohttp->gradio) (1.8.1)\n",
      "Requirement already satisfied: frozenlist>=1.1.1 in d:\\anaconda\\lib\\site-packages (from aiohttp->gradio) (1.3.1)\n",
      "Requirement already satisfied: idna>=2.0 in d:\\anaconda\\lib\\site-packages (from yarl<2.0,>=1.0->aiohttp->gradio) (3.3)\n",
      "Requirement already satisfied: starlette==0.20.4 in d:\\anaconda\\lib\\site-packages (from fastapi->gradio) (0.20.4)\n",
      "Requirement already satisfied: typing-extensions>=3.10.0 in d:\\anaconda\\lib\\site-packages (from starlette==0.20.4->fastapi->gradio) (4.3.0)\n",
      "Requirement already satisfied: anyio<5,>=3.4.0 in d:\\anaconda\\lib\\site-packages (from starlette==0.20.4->fastapi->gradio) (3.5.0)\n",
      "Requirement already satisfied: sniffio>=1.1 in d:\\anaconda\\lib\\site-packages (from anyio<5,>=3.4.0->starlette==0.20.4->fastapi->gradio) (1.2.0)\n",
      "Requirement already satisfied: httpcore<0.16.0,>=0.15.0 in d:\\anaconda\\lib\\site-packages (from httpx->gradio) (0.15.0)\n",
      "Requirement already satisfied: certifi in d:\\anaconda\\lib\\site-packages (from httpx->gradio) (2022.9.14)\n",
      "Requirement already satisfied: rfc3986[idna2008]<2,>=1.3 in d:\\anaconda\\lib\\site-packages (from httpx->gradio) (1.5.0)\n",
      "Requirement already satisfied: MarkupSafe>=2.0 in c:\\users\\mustafa\\appdata\\roaming\\python\\python39\\site-packages (from jinja2->gradio) (2.0.1)\n",
      "Requirement already satisfied: mdurl~=0.1 in d:\\anaconda\\lib\\site-packages (from markdown-it-py[linkify,plugins]->gradio) (0.1.2)\n",
      "Requirement already satisfied: mdit-py-plugins in d:\\anaconda\\lib\\site-packages (from markdown-it-py[linkify,plugins]->gradio) (0.3.1)\n",
      "Requirement already satisfied: linkify-it-py~=1.0 in d:\\anaconda\\lib\\site-packages (from markdown-it-py[linkify,plugins]->gradio) (1.0.3)\n",
      "Requirement already satisfied: uc-micro-py in d:\\anaconda\\lib\\site-packages (from linkify-it-py~=1.0->markdown-it-py[linkify,plugins]->gradio) (1.0.1)\n",
      "Requirement already satisfied: cycler>=0.10 in d:\\anaconda\\lib\\site-packages (from matplotlib->gradio) (0.11.0)\n",
      "Requirement already satisfied: fonttools>=4.22.0 in d:\\anaconda\\lib\\site-packages (from matplotlib->gradio) (4.25.0)\n",
      "Requirement already satisfied: kiwisolver>=1.0.1 in d:\\anaconda\\lib\\site-packages (from matplotlib->gradio) (1.4.2)\n",
      "Requirement already satisfied: python-dateutil>=2.7 in c:\\users\\mustafa\\appdata\\roaming\\python\\python39\\site-packages (from matplotlib->gradio) (2.8.2)\n",
      "Requirement already satisfied: packaging>=20.0 in c:\\users\\mustafa\\appdata\\roaming\\python\\python39\\site-packages (from matplotlib->gradio) (21.0)\n",
      "Requirement already satisfied: pyparsing>=2.2.1 in c:\\users\\mustafa\\appdata\\roaming\\python\\python39\\site-packages (from matplotlib->gradio) (2.4.7)\n",
      "Requirement already satisfied: six>=1.5 in d:\\anaconda\\lib\\site-packages (from python-dateutil>=2.7->matplotlib->gradio) (1.16.0)\n",
      "Requirement already satisfied: pytz>=2020.1 in d:\\anaconda\\lib\\site-packages (from pandas->gradio) (2022.1)\n",
      "Requirement already satisfied: bcrypt>=3.1.3 in d:\\anaconda\\lib\\site-packages (from paramiko->gradio) (3.2.0)\n",
      "Requirement already satisfied: cryptography>=2.5 in d:\\anaconda\\lib\\site-packages (from paramiko->gradio) (37.0.1)\n",
      "Requirement already satisfied: pynacl>=1.0.1 in d:\\anaconda\\lib\\site-packages (from paramiko->gradio) (1.5.0)\n",
      "Requirement already satisfied: cffi>=1.1 in c:\\users\\mustafa\\appdata\\roaming\\python\\python39\\site-packages (from bcrypt>=3.1.3->paramiko->gradio) (1.14.6)\n",
      "Requirement already satisfied: pycparser in c:\\users\\mustafa\\appdata\\roaming\\python\\python39\\site-packages (from cffi>=1.1->bcrypt>=3.1.3->paramiko->gradio) (2.20)\n",
      "Requirement already satisfied: urllib3<1.27,>=1.21.1 in d:\\anaconda\\lib\\site-packages (from requests->gradio) (1.26.11)\n",
      "Requirement already satisfied: click>=7.0 in d:\\anaconda\\lib\\site-packages (from uvicorn->gradio) (8.0.4)\n",
      "Requirement already satisfied: colorama in d:\\anaconda\\lib\\site-packages (from click>=7.0->uvicorn->gradio) (0.4.5)\n"
     ]
    },
    {
     "name": "stderr",
     "output_type": "stream",
     "text": [
      "WARNING: You are using pip version 21.0.1; however, version 22.3 is available.\n",
      "You should consider upgrading via the 'D:\\Anaconda\\python.exe -m pip install --upgrade pip' command.\n"
     ]
    },
    {
     "name": "stdout",
     "output_type": "stream",
     "text": [
      "Collecting nbdev\n",
      "  Downloading nbdev-2.3.7-py3-none-any.whl (63 kB)\n",
      "Requirement already satisfied: PyYAML in d:\\anaconda\\lib\\site-packages (from nbdev) (6.0)\n",
      "Collecting astunparse\n",
      "  Downloading astunparse-1.6.3-py2.py3-none-any.whl (12 kB)\n",
      "Collecting ghapi>=1.0.3\n",
      "  Downloading ghapi-1.0.3-py3-none-any.whl (58 kB)\n",
      "Requirement already satisfied: watchdog in d:\\anaconda\\lib\\site-packages (from nbdev) (2.1.6)\n",
      "Requirement already satisfied: fastcore>=1.5.27 in d:\\anaconda\\lib\\site-packages (from nbdev) (1.5.27)\n",
      "Collecting asttokens\n",
      "  Downloading asttokens-2.0.8-py2.py3-none-any.whl (23 kB)\n",
      "Collecting execnb>=0.1.4\n",
      "  Downloading execnb-0.1.4-py3-none-any.whl (13 kB)\n",
      "Requirement already satisfied: ipython in c:\\users\\mustafa\\appdata\\roaming\\python\\python39\\site-packages (from execnb>=0.1.4->nbdev) (7.28.0)\n",
      "Requirement already satisfied: packaging in c:\\users\\mustafa\\appdata\\roaming\\python\\python39\\site-packages (from fastcore>=1.5.27->nbdev) (21.0)\n",
      "Requirement already satisfied: pip in c:\\users\\mustafa\\appdata\\roaming\\python\\python39\\site-packages (from fastcore>=1.5.27->nbdev) (21.0.1)\n",
      "Requirement already satisfied: six in d:\\anaconda\\lib\\site-packages (from asttokens->nbdev) (1.16.0)\n",
      "Requirement already satisfied: wheel<1.0,>=0.23.0 in d:\\anaconda\\lib\\site-packages (from astunparse->nbdev) (0.37.1)\n",
      "Requirement already satisfied: backcall in c:\\users\\mustafa\\appdata\\roaming\\python\\python39\\site-packages (from ipython->execnb>=0.1.4->nbdev) (0.2.0)\n",
      "Requirement already satisfied: jedi>=0.16 in c:\\users\\mustafa\\appdata\\roaming\\python\\python39\\site-packages (from ipython->execnb>=0.1.4->nbdev) (0.18.0)\n",
      "Requirement already satisfied: decorator in c:\\users\\mustafa\\appdata\\roaming\\python\\python39\\site-packages (from ipython->execnb>=0.1.4->nbdev) (5.1.0)\n",
      "Requirement already satisfied: matplotlib-inline in c:\\users\\mustafa\\appdata\\roaming\\python\\python39\\site-packages (from ipython->execnb>=0.1.4->nbdev) (0.1.3)\n",
      "Requirement already satisfied: colorama in d:\\anaconda\\lib\\site-packages (from ipython->execnb>=0.1.4->nbdev) (0.4.5)\n",
      "Requirement already satisfied: pickleshare in c:\\users\\mustafa\\appdata\\roaming\\python\\python39\\site-packages (from ipython->execnb>=0.1.4->nbdev) (0.7.5)\n",
      "Requirement already satisfied: pygments in c:\\users\\mustafa\\appdata\\roaming\\python\\python39\\site-packages (from ipython->execnb>=0.1.4->nbdev) (2.10.0)\n",
      "Requirement already satisfied: traitlets>=4.2 in d:\\anaconda\\lib\\site-packages (from ipython->execnb>=0.1.4->nbdev) (5.1.1)\n",
      "Requirement already satisfied: setuptools>=18.5 in d:\\anaconda\\lib\\site-packages (from ipython->execnb>=0.1.4->nbdev) (63.4.1)\n",
      "Requirement already satisfied: prompt-toolkit!=3.0.0,!=3.0.1,<3.1.0,>=2.0.0 in c:\\users\\mustafa\\appdata\\roaming\\python\\python39\\site-packages (from ipython->execnb>=0.1.4->nbdev) (3.0.20)\n",
      "Requirement already satisfied: parso<0.9.0,>=0.8.0 in c:\\users\\mustafa\\appdata\\roaming\\python\\python39\\site-packages (from jedi>=0.16->ipython->execnb>=0.1.4->nbdev) (0.8.2)\n",
      "Requirement already satisfied: wcwidth in c:\\users\\mustafa\\appdata\\roaming\\python\\python39\\site-packages (from prompt-toolkit!=3.0.0,!=3.0.1,<3.1.0,>=2.0.0->ipython->execnb>=0.1.4->nbdev) (0.2.5)\n",
      "Requirement already satisfied: pyparsing>=2.0.2 in c:\\users\\mustafa\\appdata\\roaming\\python\\python39\\site-packages (from packaging->fastcore>=1.5.27->nbdev) (2.4.7)\n",
      "Installing collected packages: ghapi, execnb, astunparse, asttokens, nbdev\n",
      "Successfully installed asttokens-2.0.8 astunparse-1.6.3 execnb-0.1.4 ghapi-1.0.3 nbdev-2.3.7\n"
     ]
    },
    {
     "name": "stderr",
     "output_type": "stream",
     "text": [
      "WARNING: You are using pip version 21.0.1; however, version 22.3 is available.\n",
      "You should consider upgrading via the 'D:\\Anaconda\\python.exe -m pip install --upgrade pip' command.\n"
     ]
    }
   ],
   "source": [
    "!pip install -Uqq fastai\n",
    "!pip install gradio\n",
    "!pip install nbdev "
   ]
  },
  {
   "cell_type": "code",
   "execution_count": 14,
   "id": "6c0be274",
   "metadata": {},
   "outputs": [],
   "source": [
    "#|export\n",
    "from fastai.vision.all import *\n",
    "import gradio as gr\n",
    "import pathlib\n",
    "\n",
    "def is_cat(x): return x[0].isupper() "
   ]
  },
  {
   "cell_type": "code",
   "execution_count": 11,
   "id": "6a12e759",
   "metadata": {},
   "outputs": [
    {
     "data": {
      "image/png": "[encoded data removed]",
      "text/plain": [
       "PILImage mode=RGB size=192x192"
      ]
     },
     "execution_count": 11,
     "metadata": {},
     "output_type": "execute_result"
    }
   ],
   "source": [
    "im = PILImage.create('dog.jpg')\n",
    "im.thumbnail((192,192))\n",
    "im"
   ]
  },
  {
   "cell_type": "code",
   "execution_count": 15,
   "id": "7d11ad2d",
   "metadata": {},
   "outputs": [],
   "source": [
    "#|export\n",
    "#This is an encapsulating function to convert PosixPath to WindowsPath for Windows users.\n",
    "def windows_path(model_path):\n",
    "    temp = pathlib.PosixPath\n",
    "    pathlib.PosixPath = pathlib.WindowsPath\n",
    "    learn = load_learner(model_path)\n",
    "    pathlib.PosixPath = temp # setting it back to temp to prevent future errors\n",
    "    return learn"
   ]
  },
  {
   "cell_type": "code",
   "execution_count": 16,
   "id": "26657af7",
   "metadata": {},
   "outputs": [],
   "source": [
    "#|export\n",
    "#This model.pkl is created in 'dogs_cats.ipynb'. It can be checked out in this repository.\n",
    "learn = windows_path('model.pkl')"
   ]
  },
  {
   "cell_type": "code",
   "execution_count": 17,
   "id": "7db5de6e",
   "metadata": {},
   "outputs": [
    {
     "data": {
      "text/html": [
       "\n",
       "<style>\n",
       "    /* Turns off some styling */\n",
       "    progress {\n",
       "        /* gets rid of default border in Firefox and Opera. */\n",
       "        border: none;\n",
       "        /* Needs to be in here for Safari polyfill so background images work as expected. */\n",
       "        background-size: auto;\n",
       "    }\n",
       "    progress:not([value]), progress:not([value])::-webkit-progress-bar {\n",
       "        background: repeating-linear-gradient(45deg, #7e7e7e, #7e7e7e 10px, #5c5c5c 10px, #5c5c5c 20px);\n",
       "    }\n",
       "    .progress-bar-interrupted, .progress-bar-interrupted::-webkit-progress-bar {\n",
       "        background: #F44336;\n",
       "    }\n",
       "</style>\n"
      ],
      "text/plain": [
       "<IPython.core.display.HTML object>"
      ]
     },
     "metadata": {},
     "output_type": "display_data"
    },
    {
     "data": {
      "text/html": [],
      "text/plain": [
       "<IPython.core.display.HTML object>"
      ]
     },
     "metadata": {},
     "output_type": "display_data"
    },
    {
     "data": {
      "text/plain": [
       "('False', TensorBase(0), TensorBase([9.9925e-01, 7.4978e-04]))"
      ]
     },
     "execution_count": 17,
     "metadata": {},
     "output_type": "execute_result"
    }
   ],
   "source": [
    "learn.predict(im)"
   ]
  },
  {
   "cell_type": "code",
   "execution_count": 20,
   "id": "59b4ff1b",
   "metadata": {},
   "outputs": [],
   "source": [
    "#|export\n",
    "categories = ('Dog', 'Cat')\n",
    "def classify_image(img):\n",
    "    pred,idx,probs= learn.predict(img)\n",
    "    return dict(zip(categories, map(float,probs)))"
   ]
  },
  {
   "cell_type": "code",
   "execution_count": 21,
   "id": "4c764c70",
   "metadata": {},
   "outputs": [
    {
     "data": {
      "text/html": [
       "\n",
       "<style>\n",
       "    /* Turns off some styling */\n",
       "    progress {\n",
       "        /* gets rid of default border in Firefox and Opera. */\n",
       "        border: none;\n",
       "        /* Needs to be in here for Safari polyfill so background images work as expected. */\n",
       "        background-size: auto;\n",
       "    }\n",
       "    progress:not([value]), progress:not([value])::-webkit-progress-bar {\n",
       "        background: repeating-linear-gradient(45deg, #7e7e7e, #7e7e7e 10px, #5c5c5c 10px, #5c5c5c 20px);\n",
       "    }\n",
       "    .progress-bar-interrupted, .progress-bar-interrupted::-webkit-progress-bar {\n",
       "        background: #F44336;\n",
       "    }\n",
       "</style>\n"
      ],
      "text/plain": [
       "<IPython.core.display.HTML object>"
      ]
     },
     "metadata": {},
     "output_type": "display_data"
    },
    {
     "data": {
      "text/html": [],
      "text/plain": [
       "<IPython.core.display.HTML object>"
      ]
     },
     "metadata": {},
     "output_type": "display_data"
    },
    {
     "data": {
      "text/plain": [
       "{'Dog': 0.9992502331733704, 'Cat': 0.0007497832411900163}"
      ]
     },
     "execution_count": 21,
     "metadata": {},
     "output_type": "execute_result"
    }
   ],
   "source": [
    "classify_image(im)"
   ]
  },
  {
   "cell_type": "code",
   "execution_count": 24,
   "id": "fd859be5",
   "metadata": {},
   "outputs": [
    {
     "name": "stderr",
     "output_type": "stream",
     "text": [
      "D:\\Anaconda\\lib\\site-packages\\gradio\\inputs.py:256: UserWarning: Usage of gradio.inputs is deprecated, and will not be supported in the future, please import your component from gradio.components\n",
      "  warnings.warn(\n",
      "D:\\Anaconda\\lib\\site-packages\\gradio\\deprecation.py:40: UserWarning: `optional` parameter is deprecated, and it has no effect\n",
      "  warnings.warn(value)\n",
      "D:\\Anaconda\\lib\\site-packages\\gradio\\outputs.py:196: UserWarning: Usage of gradio.outputs is deprecated, and will not be supported in the future, please import your components from gradio.components\n",
      "  warnings.warn(\n",
      "D:\\Anaconda\\lib\\site-packages\\gradio\\deprecation.py:40: UserWarning: The 'type' parameter has been deprecated. Use the Number component instead.\n",
      "  warnings.warn(value)\n"
     ]
    },
    {
     "name": "stdout",
     "output_type": "stream",
     "text": [
      "Running on local URL:  http://127.0.0.1:7862\n",
      "\n",
      "To create a public link, set `share=True` in `launch()`.\n"
     ]
    },
    {
     "data": {
      "text/plain": [
       "(<gradio.routes.App at 0x141b97dc520>, 'http://127.0.0.1:7862/', None)"
      ]
     },
     "execution_count": 24,
     "metadata": {},
     "output_type": "execute_result"
    },
    {
     "data": {
      "text/html": [
       "\n",
       "<style>\n",
       "    /* Turns off some styling */\n",
       "    progress {\n",
       "        /* gets rid of default border in Firefox and Opera. */\n",
       "        border: none;\n",
       "        /* Needs to be in here for Safari polyfill so background images work as expected. */\n",
       "        background-size: auto;\n",
       "    }\n",
       "    progress:not([value]), progress:not([value])::-webkit-progress-bar {\n",
       "        background: repeating-linear-gradient(45deg, #7e7e7e, #7e7e7e 10px, #5c5c5c 10px, #5c5c5c 20px);\n",
       "    }\n",
       "    .progress-bar-interrupted, .progress-bar-interrupted::-webkit-progress-bar {\n",
       "        background: #F44336;\n",
       "    }\n",
       "</style>\n"
      ],
      "text/plain": [
       "<IPython.core.display.HTML object>"
      ]
     },
     "metadata": {},
     "output_type": "display_data"
    },
    {
     "data": {
      "text/html": [],
      "text/plain": [
       "<IPython.core.display.HTML object>"
      ]
     },
     "metadata": {},
     "output_type": "display_data"
    },
    {
     "data": {
      "text/html": [
       "\n",
       "<style>\n",
       "    /* Turns off some styling */\n",
       "    progress {\n",
       "        /* gets rid of default border in Firefox and Opera. */\n",
       "        border: none;\n",
       "        /* Needs to be in here for Safari polyfill so background images work as expected. */\n",
       "        background-size: auto;\n",
       "    }\n",
       "    progress:not([value]), progress:not([value])::-webkit-progress-bar {\n",
       "        background: repeating-linear-gradient(45deg, #7e7e7e, #7e7e7e 10px, #5c5c5c 10px, #5c5c5c 20px);\n",
       "    }\n",
       "    .progress-bar-interrupted, .progress-bar-interrupted::-webkit-progress-bar {\n",
       "        background: #F44336;\n",
       "    }\n",
       "</style>\n"
      ],
      "text/plain": [
       "<IPython.core.display.HTML object>"
      ]
     },
     "metadata": {},
     "output_type": "display_data"
    },
    {
     "data": {
      "text/html": [],
      "text/plain": [
       "<IPython.core.display.HTML object>"
      ]
     },
     "metadata": {},
     "output_type": "display_data"
    },
    {
     "data": {
      "text/html": [
       "\n",
       "<style>\n",
       "    /* Turns off some styling */\n",
       "    progress {\n",
       "        /* gets rid of default border in Firefox and Opera. */\n",
       "        border: none;\n",
       "        /* Needs to be in here for Safari polyfill so background images work as expected. */\n",
       "        background-size: auto;\n",
       "    }\n",
       "    progress:not([value]), progress:not([value])::-webkit-progress-bar {\n",
       "        background: repeating-linear-gradient(45deg, #7e7e7e, #7e7e7e 10px, #5c5c5c 10px, #5c5c5c 20px);\n",
       "    }\n",
       "    .progress-bar-interrupted, .progress-bar-interrupted::-webkit-progress-bar {\n",
       "        background: #F44336;\n",
       "    }\n",
       "</style>\n"
      ],
      "text/plain": [
       "<IPython.core.display.HTML object>"
      ]
     },
     "metadata": {},
     "output_type": "display_data"
    },
    {
     "data": {
      "text/html": [],
      "text/plain": [
       "<IPython.core.display.HTML object>"
      ]
     },
     "metadata": {},
     "output_type": "display_data"
    }
   ],
   "source": [
    "#| export\n",
    "image = gr.inputs.Image(shape=(192,192))\n",
    "label = gr.outputs.Label()\n",
    "examples = ['dog.jpg', 'cat.jpg', 'confusing.jfif']\n",
    "\n",
    "intf = gr.Interface(fn=classify_image, inputs=image, outputs=label, examples=examples)\n",
    "intf.launch(inline=False)"
   ]
  },
  {
   "cell_type": "code",
   "execution_count": 25,
   "id": "35bdd3ba",
   "metadata": {},
   "outputs": [],
   "source": [
    "m = learn.model"
   ]
  },
  {
   "cell_type": "code",
   "execution_count": 26,
   "id": "baab3360",
   "metadata": {},
   "outputs": [],
   "source": [
    "ps = list(list(m.parameters()))"
   ]
  },
  {
   "cell_type": "code",
   "execution_count": 27,
   "id": "f2d13bc5",
   "metadata": {},
   "outputs": [
    {
     "data": {
      "text/plain": [
       "Parameter containing:\n",
       "tensor([ 2.3602e-01,  2.6620e-01, -5.1096e-08,  5.1780e-01,  3.4404e-09,\n",
       "         2.2351e-01,  4.2384e-01,  1.3153e-07,  2.5243e-01,  1.5152e-06,\n",
       "         3.1612e-01,  2.5005e-01,  3.8002e-01,  1.0862e-05,  2.7639e-01,\n",
       "         2.3645e-01,  2.4118e-01,  3.9558e-01,  4.7005e-01,  2.9053e-01,\n",
       "         2.7123e-01,  2.7771e-01,  2.8978e-01,  2.0658e-01,  2.5869e-01,\n",
       "         2.7924e-01,  2.9095e-01,  3.1561e-01,  3.8772e-01,  3.0356e-01,\n",
       "         2.6692e-01,  2.1027e-01,  2.8652e-01,  3.3263e-01,  4.2728e-01,\n",
       "         3.7253e-01,  7.4804e-08,  1.9162e-01,  1.4740e-08,  2.2369e-01,\n",
       "         1.7821e-01,  2.4924e-01,  2.7441e-01,  2.5755e-01,  2.9493e-01,\n",
       "         2.9955e-01,  2.2419e-01,  2.6220e-01,  2.2001e-08,  2.6723e-01,\n",
       "         2.2098e-01,  2.8511e-01,  3.3102e-01,  2.2716e-01,  3.6603e-01,\n",
       "         2.1283e-01,  2.3954e-01,  2.4995e-01,  5.2542e-01,  2.4923e-01,\n",
       "         2.9420e-01,  2.5877e-01,  4.8219e-01,  2.6553e-01],\n",
       "       requires_grad=True)"
      ]
     },
     "execution_count": 27,
     "metadata": {},
     "output_type": "execute_result"
    }
   ],
   "source": [
    "ps[1]"
   ]
  },
  {
   "cell_type": "code",
   "execution_count": 28,
   "id": "baa52a2f",
   "metadata": {},
   "outputs": [
    {
     "data": {
      "text/plain": [
       "torch.Size([64, 3, 7, 7])"
      ]
     },
     "execution_count": 28,
     "metadata": {},
     "output_type": "execute_result"
    }
   ],
   "source": [
    "ps[0].shape"
   ]
  },
  {
   "cell_type": "code",
   "execution_count": 29,
   "id": "670284a9",
   "metadata": {},
   "outputs": [
    {
     "data": {
      "text/plain": [
       "Parameter containing:\n",
       "tensor([[[[-1.0333e-02, -6.0496e-03, -1.7107e-03,  ...,  5.6710e-02,\n",
       "            1.7161e-02, -1.2622e-02],\n",
       "          [ 1.1166e-02,  9.6025e-03, -1.0984e-01,  ..., -2.7115e-01,\n",
       "           -1.2901e-01,  3.7984e-03],\n",
       "          [-6.8633e-03,  5.9153e-02,  2.9552e-01,  ...,  5.1976e-01,\n",
       "            2.5637e-01,  6.3621e-02],\n",
       "          ...,\n",
       "          [-2.7504e-02,  1.6066e-02,  7.2609e-02,  ..., -3.3280e-01,\n",
       "           -4.2053e-01, -2.5777e-01],\n",
       "          [ 3.0633e-02,  4.0957e-02,  6.2855e-02,  ...,  4.1387e-01,\n",
       "            3.9362e-01,  1.6609e-01],\n",
       "          [-1.3732e-02, -3.7039e-03, -2.4102e-02,  ..., -1.5069e-01,\n",
       "           -8.2229e-02, -5.7755e-03]],\n",
       "\n",
       "         [[-1.1289e-02, -2.6509e-02, -3.4505e-02,  ...,  3.2639e-02,\n",
       "            7.5986e-04, -2.5665e-02],\n",
       "          [ 4.5784e-02,  3.3698e-02, -1.0441e-01,  ..., -3.1242e-01,\n",
       "           -1.6041e-01, -1.2143e-03],\n",
       "          [-7.3990e-04,  9.8505e-02,  4.0218e-01,  ...,  7.0795e-01,\n",
       "            3.6893e-01,  1.2461e-01],\n",
       "          ...,\n",
       "          [-5.5871e-02, -5.1687e-03,  2.7135e-02,  ..., -4.6170e-01,\n",
       "           -5.7074e-01, -3.6547e-01],\n",
       "          [ 3.2899e-02,  5.5597e-02,  9.9713e-02,  ...,  5.4642e-01,\n",
       "            4.8282e-01,  1.9872e-01],\n",
       "          [ 5.3310e-03,  6.6897e-03, -1.7240e-02,  ..., -1.4820e-01,\n",
       "           -7.7235e-02,  7.3697e-04]],\n",
       "\n",
       "         [[-1.8844e-03, -9.0053e-03,  2.1395e-02,  ...,  8.9342e-02,\n",
       "            3.3798e-02, -1.9973e-02],\n",
       "          [ 1.5542e-02, -1.8502e-02, -1.2573e-01,  ..., -2.5326e-01,\n",
       "           -1.2966e-01, -2.7857e-02],\n",
       "          [ 9.9861e-03,  4.9189e-02,  2.1713e-01,  ...,  3.4884e-01,\n",
       "            1.0445e-01,  1.8528e-02],\n",
       "          ...,\n",
       "          [-2.8245e-02,  1.8519e-02,  9.8760e-02,  ..., -1.1726e-01,\n",
       "           -2.5748e-01, -1.5439e-01],\n",
       "          [ 2.0864e-02, -2.5295e-03, -3.7713e-02,  ...,  2.4154e-01,\n",
       "            2.4357e-01,  1.1806e-01],\n",
       "          [ 8.2775e-04,  8.4414e-04, -9.9644e-03,  ..., -1.4857e-01,\n",
       "           -1.1747e-01, -3.8274e-02]]],\n",
       "\n",
       "\n",
       "        [[[-4.4235e-03, -4.0752e-03,  3.1373e-03,  ..., -3.7058e-02,\n",
       "           -2.5217e-02, -4.8018e-02],\n",
       "          [ 5.1305e-02,  5.3377e-02,  8.0380e-02,  ...,  1.4473e-01,\n",
       "            1.4278e-01,  1.2303e-01],\n",
       "          [-7.3333e-03,  2.1453e-03,  3.7533e-02,  ...,  6.1421e-02,\n",
       "            8.0232e-02,  1.1707e-01],\n",
       "          ...,\n",
       "          [-2.6737e-02, -1.2302e-01, -1.3660e-01,  ..., -1.4080e-01,\n",
       "           -1.1166e-01, -4.9665e-02],\n",
       "          [ 2.3518e-02, -1.7358e-02, -1.1220e-02,  ..., -1.8951e-02,\n",
       "           -2.3450e-02, -2.9599e-02],\n",
       "          [ 2.8658e-02,  2.1580e-02,  4.7783e-02,  ...,  2.5347e-02,\n",
       "            3.5204e-02,  1.1138e-02]],\n",
       "\n",
       "         [[ 4.6204e-04,  1.2135e-02,  4.1997e-02,  ...,  4.6351e-02,\n",
       "            4.0346e-02, -1.4536e-02],\n",
       "          [ 4.3453e-02,  6.8742e-02,  1.3260e-01,  ...,  2.8598e-01,\n",
       "            2.6895e-01,  2.0924e-01],\n",
       "          [-5.7623e-02, -2.2685e-02,  3.0484e-02,  ...,  1.3752e-01,\n",
       "            1.6527e-01,  1.7936e-01],\n",
       "          ...,\n",
       "          [-1.0815e-01, -2.5233e-01, -2.9751e-01,  ..., -2.8514e-01,\n",
       "           -2.1504e-01, -1.0331e-01],\n",
       "          [ 4.0694e-02, -3.2858e-02, -6.3553e-02,  ..., -9.2485e-02,\n",
       "           -7.0008e-02, -4.9970e-02],\n",
       "          [ 8.2902e-02,  8.7490e-02,  1.0101e-01,  ...,  5.2562e-02,\n",
       "            6.0828e-02,  4.1052e-02]],\n",
       "\n",
       "         [[-1.6390e-02, -1.3899e-02,  5.2295e-03,  ...,  4.3639e-02,\n",
       "            2.2634e-02, -4.6062e-02],\n",
       "          [ 3.3198e-02,  4.1971e-02,  9.3421e-02,  ...,  2.6154e-01,\n",
       "            2.2961e-01,  1.6685e-01],\n",
       "          [-4.5981e-02, -1.6407e-02,  2.6751e-02,  ...,  1.4942e-01,\n",
       "            1.3208e-01,  1.3572e-01],\n",
       "          ...,\n",
       "          [-7.2109e-02, -1.8907e-01, -2.3397e-01,  ..., -1.9046e-01,\n",
       "           -1.5617e-01, -7.6055e-02],\n",
       "          [ 5.1151e-02, -2.5888e-02, -6.9448e-02,  ..., -5.9095e-02,\n",
       "           -6.1658e-02, -4.4656e-02],\n",
       "          [ 1.1172e-01,  7.8916e-02,  6.5762e-02,  ...,  3.1496e-02,\n",
       "            2.5109e-02,  7.3109e-03]]],\n",
       "\n",
       "\n",
       "        [[[-7.0824e-08, -6.4305e-08, -7.3805e-08,  ..., -9.7998e-08,\n",
       "           -1.0904e-07, -8.3420e-08],\n",
       "          [-6.1124e-09,  2.0612e-09, -8.0921e-09,  ..., -4.9840e-08,\n",
       "           -4.3835e-08, -3.0537e-09],\n",
       "          [ 7.1952e-08,  7.5615e-08,  5.9281e-08,  ..., -9.7507e-09,\n",
       "           -1.0951e-09,  4.2442e-08],\n",
       "          ...,\n",
       "          [ 9.5887e-08,  1.0039e-07,  7.9816e-08,  ..., -1.7490e-08,\n",
       "           -4.7665e-08, -1.3265e-08],\n",
       "          [ 1.2904e-07,  1.4761e-07,  1.7476e-07,  ...,  1.3232e-07,\n",
       "            1.0628e-07,  9.3314e-08],\n",
       "          [ 1.2558e-07,  1.3644e-07,  1.8431e-07,  ...,  2.1398e-07,\n",
       "            1.7709e-07,  1.7166e-07]],\n",
       "\n",
       "         [[-1.2690e-07, -9.6137e-08, -1.0372e-07,  ..., -1.1808e-07,\n",
       "           -1.3309e-07, -1.0819e-07],\n",
       "          [-5.7412e-08, -2.5054e-08, -3.0114e-08,  ..., -7.2921e-08,\n",
       "           -6.7021e-08, -2.2574e-08],\n",
       "          [ 2.1813e-08,  4.8608e-08,  3.1221e-08,  ..., -1.8694e-08,\n",
       "           -7.9589e-09,  3.9749e-08],\n",
       "          ...,\n",
       "          [ 5.6012e-08,  7.5524e-08,  4.4495e-08,  ..., -4.4127e-08,\n",
       "           -5.9929e-08, -1.8247e-08],\n",
       "          [ 7.7612e-08,  9.8346e-08,  1.0455e-07,  ...,  6.3270e-08,\n",
       "            4.1780e-08,  4.5900e-08],\n",
       "          [ 5.9832e-08,  7.1005e-08,  9.0435e-08,  ...,  1.1654e-07,\n",
       "            8.7549e-08,  9.8835e-08]],\n",
       "\n",
       "         [[-4.3809e-08,  1.3270e-08,  7.8274e-09,  ..., -5.8803e-09,\n",
       "           -2.6217e-08, -1.5649e-08],\n",
       "          [ 4.1699e-08,  1.0777e-07,  1.0946e-07,  ...,  7.6402e-08,\n",
       "            7.1449e-08,  9.7613e-08],\n",
       "          [ 1.0436e-07,  1.6585e-07,  1.5933e-07,  ...,  1.3517e-07,\n",
       "            1.3487e-07,  1.6448e-07],\n",
       "          ...,\n",
       "          [ 9.8762e-08,  1.5072e-07,  1.2546e-07,  ...,  6.8314e-08,\n",
       "            6.8381e-08,  1.1367e-07],\n",
       "          [ 9.1433e-08,  1.3576e-07,  1.3793e-07,  ...,  1.1678e-07,\n",
       "            1.1723e-07,  1.4394e-07],\n",
       "          [ 6.2181e-08,  8.8183e-08,  1.0456e-07,  ...,  1.3941e-07,\n",
       "            1.3332e-07,  1.5844e-07]]],\n",
       "\n",
       "\n",
       "        ...,\n",
       "\n",
       "\n",
       "        [[[-6.1949e-02, -3.0229e-02,  1.9199e-02,  ...,  4.3490e-02,\n",
       "           -2.2262e-02, -4.2366e-02],\n",
       "          [-3.8086e-02,  6.0775e-03,  4.5802e-02,  ...,  9.5832e-02,\n",
       "            5.9057e-02,  2.9792e-02],\n",
       "          [-2.9676e-02,  2.7621e-03,  2.0429e-02,  ...,  5.9620e-02,\n",
       "            4.1257e-02,  2.2979e-02],\n",
       "          ...,\n",
       "          [ 1.1866e-02,  4.5622e-02,  4.4831e-02,  ...,  4.7212e-02,\n",
       "            2.2070e-02, -5.6107e-03],\n",
       "          [-3.2482e-02, -1.2245e-02,  2.1987e-02,  ...,  5.7975e-02,\n",
       "           -7.6197e-03, -5.9794e-02],\n",
       "          [-4.3305e-02, -2.8163e-02, -5.9388e-03,  ...,  8.8387e-02,\n",
       "            8.3318e-03, -5.0094e-02]],\n",
       "\n",
       "         [[-6.1293e-02, -1.3969e-02,  1.7282e-02,  ...,  1.8262e-02,\n",
       "           -3.2754e-02, -4.1118e-02],\n",
       "          [-3.1461e-02,  2.4546e-02,  4.5654e-02,  ...,  6.6711e-02,\n",
       "            4.6600e-02,  3.3185e-02],\n",
       "          [-3.2132e-02,  2.0804e-02,  2.3453e-02,  ...,  3.5202e-02,\n",
       "            3.6463e-02,  3.1254e-02],\n",
       "          ...,\n",
       "          [ 1.7768e-02,  6.1071e-02,  4.8302e-02,  ...,  3.7803e-02,\n",
       "            2.8884e-02,  1.4008e-02],\n",
       "          [-1.0816e-02,  2.2156e-02,  4.2832e-02,  ...,  6.0325e-02,\n",
       "            1.6250e-02, -1.2407e-02],\n",
       "          [-2.2184e-02,  1.3333e-02,  3.1006e-02,  ...,  1.0411e-01,\n",
       "            4.0166e-02, -5.2621e-03]],\n",
       "\n",
       "         [[-8.5299e-02, -4.2529e-02,  6.9127e-03,  ...,  3.0716e-02,\n",
       "           -3.4826e-02, -4.9958e-02],\n",
       "          [-2.9128e-02,  1.8294e-02,  5.1290e-02,  ...,  9.0221e-02,\n",
       "            5.3425e-02,  4.0175e-02],\n",
       "          [-3.9810e-02, -9.6420e-04,  9.8099e-03,  ...,  2.4173e-02,\n",
       "            2.6355e-02,  2.5518e-02],\n",
       "          ...,\n",
       "          [-3.0901e-03,  3.0602e-02,  1.6484e-02,  ...,  5.6311e-03,\n",
       "           -6.1510e-03, -8.3155e-03],\n",
       "          [-2.2868e-02, -2.6598e-03,  2.3397e-02,  ...,  3.6046e-02,\n",
       "           -1.4149e-02, -3.2224e-02],\n",
       "          [-9.7534e-03,  7.2333e-03,  1.0842e-02,  ...,  7.0656e-02,\n",
       "            1.3125e-02, -8.1839e-03]]],\n",
       "\n",
       "\n",
       "        [[[-7.9286e-03,  1.9859e-02,  3.4149e-02,  ...,  2.8622e-02,\n",
       "            1.2751e-02,  1.8072e-02],\n",
       "          [ 8.7019e-03, -3.2952e-02, -3.5770e-02,  ...,  7.2440e-02,\n",
       "            4.5812e-02,  5.2302e-02],\n",
       "          [-3.6203e-02, -1.1884e-01, -1.3772e-01,  ...,  3.3733e-02,\n",
       "            3.7718e-02,  2.6867e-02],\n",
       "          ...,\n",
       "          [ 1.7286e-02,  3.9309e-03, -8.2422e-03,  ...,  2.7095e-03,\n",
       "            1.8249e-02,  1.5991e-02],\n",
       "          [-9.6217e-04,  1.6436e-02,  1.7169e-02,  ...,  3.3468e-03,\n",
       "            2.2831e-02,  6.0831e-04],\n",
       "          [ 6.1314e-03,  2.7137e-02,  1.4331e-02,  ...,  7.5706e-03,\n",
       "            1.8753e-02,  1.5571e-02]],\n",
       "\n",
       "         [[-1.3477e-02, -5.3791e-04,  8.0496e-03,  ..., -6.1700e-03,\n",
       "            9.1663e-03,  1.5688e-02],\n",
       "          [-1.8422e-02, -6.8003e-02, -7.0696e-02,  ...,  2.9789e-02,\n",
       "            2.6202e-02,  2.3701e-02],\n",
       "          [-5.4411e-02, -1.4659e-01, -1.6211e-01,  ...,  1.1732e-02,\n",
       "            3.2406e-02,  1.1916e-02],\n",
       "          ...,\n",
       "          [ 8.3270e-04, -1.7518e-02, -1.9456e-02,  ..., -4.1450e-03,\n",
       "            2.4610e-02,  1.2843e-02],\n",
       "          [-6.1025e-04,  1.1847e-02,  2.4885e-02,  ...,  6.1401e-03,\n",
       "            3.9210e-02,  9.6435e-03],\n",
       "          [-7.2093e-03,  6.7215e-03,  5.3157e-03,  ..., -7.5855e-03,\n",
       "            2.7253e-02,  1.7690e-02]],\n",
       "\n",
       "         [[-3.1657e-04, -4.9980e-03,  2.2260e-03,  ..., -4.8030e-02,\n",
       "           -2.6217e-02, -2.3569e-02],\n",
       "          [-4.4532e-04, -5.1579e-02, -6.0045e-02,  ..., -1.7436e-02,\n",
       "           -2.3383e-02, -3.7368e-02],\n",
       "          [-2.2816e-02, -9.9501e-02, -1.1189e-01,  ..., -1.1802e-02,\n",
       "           -8.4497e-03, -4.0675e-02],\n",
       "          ...,\n",
       "          [ 1.1404e-02, -8.0014e-03, -1.4377e-03,  ..., -3.4146e-02,\n",
       "           -8.7705e-03, -2.3576e-02],\n",
       "          [ 2.9567e-03,  7.3425e-04,  2.0015e-02,  ..., -2.1957e-02,\n",
       "            1.4830e-02, -1.4514e-02],\n",
       "          [-1.9156e-02, -2.9428e-02, -2.3250e-02,  ..., -4.8553e-02,\n",
       "           -1.3043e-02, -2.4413e-02]]],\n",
       "\n",
       "\n",
       "        [[[-3.6403e-02,  7.1232e-03,  1.9031e-02,  ...,  1.9563e-02,\n",
       "            1.4837e-02, -1.7338e-02],\n",
       "          [-1.1172e-02,  8.5582e-02,  1.2659e-01,  ...,  1.3705e-02,\n",
       "           -8.7130e-05, -3.0181e-02],\n",
       "          [ 1.1310e-01,  1.8626e-01,  5.0591e-02,  ..., -1.7335e-01,\n",
       "           -7.2070e-02, -6.2500e-02],\n",
       "          ...,\n",
       "          [-5.3226e-02, -2.5792e-01, -2.6754e-01,  ...,  2.6775e-01,\n",
       "            1.4340e-01,  5.5105e-02],\n",
       "          [-2.1167e-02, -3.0077e-02,  1.0234e-01,  ...,  2.0838e-01,\n",
       "           -4.1942e-03, -3.8146e-02],\n",
       "          [-2.2307e-02,  1.2265e-02,  8.4195e-02,  ..., -4.5049e-02,\n",
       "           -1.4693e-01, -9.0922e-02]],\n",
       "\n",
       "         [[-5.6016e-03,  3.2628e-02,  1.5330e-02,  ..., -7.8613e-03,\n",
       "            2.9138e-03,  1.0085e-03],\n",
       "          [ 6.1508e-02,  1.4880e-01,  1.4627e-01,  ..., -2.9030e-02,\n",
       "           -2.0345e-02, -9.2824e-03],\n",
       "          [ 1.6122e-01,  2.0867e-01, -2.5750e-02,  ..., -2.7290e-01,\n",
       "           -1.0746e-01, -6.3068e-02],\n",
       "          ...,\n",
       "          [-1.3748e-01, -4.0884e-01, -3.8569e-01,  ...,  4.0832e-01,\n",
       "            2.6190e-01,  1.3482e-01],\n",
       "          [-5.9629e-02, -6.1385e-02,  1.4177e-01,  ...,  3.5766e-01,\n",
       "            9.0780e-02, -1.8239e-03],\n",
       "          [ 7.6213e-03,  5.8207e-02,  1.5319e-01,  ...,  4.6909e-02,\n",
       "           -1.0107e-01, -9.8004e-02]],\n",
       "\n",
       "         [[-5.8432e-03,  1.3295e-02, -2.6574e-02,  ...,  4.4125e-03,\n",
       "            2.0063e-03,  1.3843e-02],\n",
       "          [ 6.4292e-03,  4.5052e-02,  6.0135e-02,  ...,  1.4283e-02,\n",
       "           -5.1398e-03,  4.0050e-03],\n",
       "          [ 5.5074e-02,  1.2383e-01,  4.3069e-02,  ..., -1.4493e-01,\n",
       "           -7.4555e-02, -5.7580e-02],\n",
       "          ...,\n",
       "          [-3.1721e-02, -1.6350e-01, -1.5809e-01,  ...,  2.2895e-01,\n",
       "            1.2010e-01,  7.1943e-02],\n",
       "          [-1.0652e-02, -1.2777e-03,  8.4434e-02,  ...,  1.5740e-01,\n",
       "            2.2080e-02, -1.0120e-02],\n",
       "          [-5.0644e-03, -5.1560e-03,  3.6201e-02,  ..., -2.4450e-02,\n",
       "           -7.1270e-02, -6.6821e-02]]]], requires_grad=True)"
      ]
     },
     "execution_count": 29,
     "metadata": {},
     "output_type": "execute_result"
    }
   ],
   "source": [
    "ps[0]"
   ]
  },
  {
   "cell_type": "markdown",
   "id": "5704d30c",
   "metadata": {},
   "source": [
    "# export\n",
    "\n",
    "To learn more about nbdev, you can go to https://github.com/fastai/nbdev "
   ]
  },
  {
   "cell_type": "code",
   "execution_count": 1,
   "id": "78592562",
   "metadata": {},
   "outputs": [
    {
     "ename": "ImportError",
     "evalue": "cannot import name 'notebook2script' from 'nbdev.export' (D:\\Anaconda\\lib\\site-packages\\nbdev\\export.py)",
     "output_type": "error",
     "traceback": [
      "\u001b[1;31m---------------------------------------------------------------------------\u001b[0m",
      "\u001b[1;31mImportError\u001b[0m                               Traceback (most recent call last)",
      "\u001b[1;32m~\\AppData\\Local\\Temp/ipykernel_5912/27739807.py\u001b[0m in \u001b[0;36m<module>\u001b[1;34m\u001b[0m\n\u001b[1;32m----> 1\u001b[1;33m \u001b[1;32mfrom\u001b[0m \u001b[0mnbdev\u001b[0m\u001b[1;33m.\u001b[0m\u001b[0mexport\u001b[0m \u001b[1;32mimport\u001b[0m \u001b[0mnotebook2script\u001b[0m\u001b[1;33m\u001b[0m\u001b[1;33m\u001b[0m\u001b[0m\n\u001b[0m",
      "\u001b[1;31mImportError\u001b[0m: cannot import name 'notebook2script' from 'nbdev.export' (D:\\Anaconda\\lib\\site-packages\\nbdev\\export.py)"
     ]
    }
   ],
   "source": [
    "from nbdev.export import notebook2script"
   ]
  },
  {
   "cell_type": "code",
   "execution_count": null,
   "id": "1eab44b8",
   "metadata": {},
   "outputs": [],
   "source": [
    "notebook2script('app.ipynb')"
   ]
  }
 ],
 "metadata": {
  "kernelspec": {
   "display_name": "Python 3 (ipykernel)",
   "language": "python",
   "name": "python3"
  },
  "language_info": {
   "codemirror_mode": {
    "name": "ipython",
    "version": 3
   },
   "file_extension": ".py",
   "mimetype": "text/x-python",
   "name": "python",
   "nbconvert_exporter": "python",
   "pygments_lexer": "ipython3",
   "version": "3.9.13"
  }
 },
 "nbformat": 4,
 "nbformat_minor": 5
}
